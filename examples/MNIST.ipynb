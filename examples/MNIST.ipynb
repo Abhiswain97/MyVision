{
 "cells": [
  {
   "cell_type": "markdown",
   "metadata": {},
   "source": [
    "# Introduction to MyVision\n",
    "This is a library I made to combine everything I <3 about PyTorch.\n",
    "My goal is \"Do more with less code\". Well `MyVision` is a wrapper over PyTorch.\n",
    "That means u must know PyTorch before working with it and if u know PyTorch you can yourself make any customizations. Just have at look at the source code on github.\n",
    "\n",
    "With this aside let's start our example. It's the MNIST example as u might have guessed already :P"
   ]
  },
  {
   "cell_type": "code",
   "execution_count": 1,
   "metadata": {},
   "outputs": [],
   "source": [
    "# torch imports\n",
    "import torch\n",
    "import torchvision\n",
    "from torchvision import datasets\n",
    "from torchvision import transforms\n",
    "from torch.utils.data import DataLoader"
   ]
  },
  {
   "cell_type": "code",
   "execution_count": 2,
   "metadata": {},
   "outputs": [],
   "source": [
    "# standard \"Every ML/DL problem\" imports\n",
    "import numpy as np\n",
    "import pandas as pd\n",
    "import matplotlib.pyplot as plt"
   ]
  },
  {
   "cell_type": "markdown",
   "metadata": {},
   "source": [
    "So, let me give u a brief overview of what `MyVision` offers:\n",
    "There are two important things at the heart of it.\n",
    "1. Dataset\n",
    "2. Trainer\n",
    "<br>\n",
    "The former one we will go through in another example.\n",
    "Here, we go through `Trainer`\n",
    "\n",
    "So what is `Trainer`?\n",
    "Simply, Trainer provides trainig and validation methods, normally in PyTorch you have to write your\n",
    "custom loop, which let me tell you, gives you ultimate customization. But I wanted to do something like what keras `.fit()` offers. So I decided to build it up.\n",
    "\n",
    "Trainer offers you this keras like `.fit()` magic. With proper parameters you can simply `.fit()` and *boom!* training begins.\n",
    "\n",
    "So, let's import the specifics. \n",
    "Our `Trainer` is present in `MyVision.engine.Engine`"
   ]
  },
  {
   "cell_type": "code",
   "execution_count": 3,
   "metadata": {},
   "outputs": [],
   "source": [
    "import MyVision\n",
    "from MyVision.engine.Engine import Trainer\n",
    "from MyVision.utils.freeze_layers import ModelLayers\n",
    "from MyVision.utils.PlotUtils import show_batch"
   ]
  },
  {
   "cell_type": "markdown",
   "metadata": {},
   "source": [
    "Below we just make the two DataLoaders because as you know in PyTorch `DataLoader` is where the heavylifting takes place. Our trainer expects these DataLoaders"
   ]
  },
  {
   "cell_type": "code",
   "execution_count": 4,
   "metadata": {},
   "outputs": [],
   "source": [
    "train_loader = torch.utils.data.DataLoader(\n",
    "    datasets.MNIST('data', train=True, download=True, transform=transforms.Compose([\n",
    "                           transforms.ToTensor(),\n",
    "                           transforms.Normalize((0.1307,), (0.3081,))\n",
    "                       ])),\n",
    "    batch_size=512, shuffle=True\n",
    ")\n",
    "test_loader = torch.utils.data.DataLoader(\n",
    "    datasets.MNIST('data', train=False, transform=transforms.Compose([\n",
    "                           transforms.ToTensor(),\n",
    "                           transforms.Normalize((0.1307,), (0.3081,))\n",
    "                       ])),\n",
    "    batch_size=512, shuffle=True\n",
    ")"
   ]
  },
  {
   "cell_type": "markdown",
   "metadata": {},
   "source": [
    "Next we do usual stuff i.e. define our `model`, `optimizer` & `loss` "
   ]
  },
  {
   "cell_type": "code",
   "execution_count": 5,
   "metadata": {},
   "outputs": [],
   "source": [
    "model = torchvision.models.resnet18(pretrained=True)\n",
    "model.conv1 = torch.nn.Conv2d(1, 64, kernel_size=(7, 7), stride=(2, 2), padding=(3, 3), bias=False)\n",
    "model.fc = torch.nn.Linear(in_features=model.fc.in_features, out_features=10)\n",
    "\n",
    "# for p in model.parameters():\n",
    "#     p.requires_grad = False\n",
    "# for p in model.fc.parameters():\n",
    "#     p.requires_grad = True\n",
    "loss = torch.nn.CrossEntropyLoss()\n",
    "optimizer = torch.optim.Adadelta(model.parameters(), lr=0.01)"
   ]
  },
  {
   "cell_type": "markdown",
   "metadata": {},
   "source": [
    "Below is the part to what we have been building upto aka `Trainer`.\n",
    "Let's have a look at what functions does the `Trainer` has.\n",
    "Run the cell below to see:"
   ]
  },
  {
   "cell_type": "code",
   "execution_count": 6,
   "metadata": {},
   "outputs": [
    {
     "output_type": "stream",
     "text": "\u001b[1;31mSignature:\u001b[0m\n\u001b[0mTrainer\u001b[0m\u001b[1;33m.\u001b[0m\u001b[0mfit\u001b[0m\u001b[1;33m(\u001b[0m\u001b[1;33m\n\u001b[0m    \u001b[0mtrain_loader\u001b[0m\u001b[1;33m,\u001b[0m\u001b[1;33m\n\u001b[0m    \u001b[0mval_loader\u001b[0m\u001b[1;33m,\u001b[0m\u001b[1;33m\n\u001b[0m    \u001b[0mdevice\u001b[0m\u001b[1;33m,\u001b[0m\u001b[1;33m\n\u001b[0m    \u001b[0mcriterion\u001b[0m\u001b[1;33m,\u001b[0m\u001b[1;33m\n\u001b[0m    \u001b[0moptimizer\u001b[0m\u001b[1;33m,\u001b[0m\u001b[1;33m\n\u001b[0m    \u001b[0mmodel\u001b[0m\u001b[1;33m,\u001b[0m\u001b[1;33m\n\u001b[0m    \u001b[0mepochs\u001b[0m\u001b[1;33m,\u001b[0m\u001b[1;33m\n\u001b[0m    \u001b[0mmetric_name\u001b[0m\u001b[1;33m=\u001b[0m\u001b[1;34m'accuracy'\u001b[0m\u001b[1;33m,\u001b[0m\u001b[1;33m\n\u001b[0m    \u001b[0mlr_scheduler\u001b[0m\u001b[1;33m=\u001b[0m\u001b[1;32mNone\u001b[0m\u001b[1;33m,\u001b[0m\u001b[1;33m\n\u001b[0m    \u001b[0mcheckpoint_path\u001b[0m\u001b[1;33m=\u001b[0m\u001b[1;34m'models'\u001b[0m\u001b[1;33m,\u001b[0m\u001b[1;33m\n\u001b[0m    \u001b[0maccumulation_steps\u001b[0m\u001b[1;33m=\u001b[0m\u001b[1;36m1\u001b[0m\u001b[1;33m,\u001b[0m\u001b[1;33m\n\u001b[0m    \u001b[0mcsv_logger\u001b[0m\u001b[1;33m=\u001b[0m\u001b[1;32mTrue\u001b[0m\u001b[1;33m,\u001b[0m\u001b[1;33m\n\u001b[0m\u001b[1;33m)\u001b[0m\u001b[1;33m\u001b[0m\u001b[1;33m\u001b[0m\u001b[0m\n\u001b[1;31mDocstring:\u001b[0m <no docstring>\n\u001b[1;31mFile:\u001b[0m      e:\\library\\myvision\\engine\\engine.py\n\u001b[1;31mType:\u001b[0m      function\n"
    }
   ],
   "source": [
    "?Trainer.fit"
   ]
  },
  {
   "cell_type": "markdown",
   "metadata": {},
   "source": [
    "You will see that out `Trainer` just takes in the usual stuff:\n",
    "1. Training, Validation & Test(if specified) DataLoaders\n",
    "2. device(either `cpu` or `cuda`)\n",
    "3. loss\n",
    "4. optimizer\n",
    "5. model\n",
    "6. learning rate scheduler(if you want)\n",
    "<br>\n",
    "Whatever you don't want just specify it as `None`."
   ]
  },
  {
   "cell_type": "markdown",
   "metadata": {},
   "source": [
    "Finally, for the magic to begin specifiy number of epochs and the scheduler metric in the `.fit()`\n",
    "Now just run the cell below and we are off !"
   ]
  },
  {
   "cell_type": "code",
   "execution_count": 7,
   "metadata": {},
   "outputs": [
    {
     "output_type": "stream",
     "name": "stdout",
     "text": "100%|██████████| 118/118 [00:59<00:00,  1.97it/s]\n100%|██████████| 20/20 [00:03<00:00,  6.66it/s]\n[SAVING] to models\\model-[15062020-233011].pt\n+-------+------------+-----------------+----------+\n| Epoch | Train loss | Validation loss | accuracy |\n+-------+------------+-----------------+----------+\n|   1   |   1.202    |      0.477      |  0.864   |\n+-------+------------+-----------------+----------+\nEpoch completed in: 1.061501650015513 mins\n100%|██████████| 118/118 [00:58<00:00,  2.01it/s]\n100%|██████████| 20/20 [00:02<00:00,  7.12it/s]\n[SAVING] to models\\model-[15062020-233113].pt\n+-------+------------+-----------------+----------+\n| Epoch | Train loss | Validation loss | accuracy |\n+-------+------------+-----------------+----------+\n|   1   |   1.202    |      0.477      |  0.864   |\n|   2   |   0.329    |      0.243      |  0.929   |\n+-------+------------+-----------------+----------+\nEpoch completed in: 1.0367061575253804 mins\n100%|██████████| 118/118 [00:56<00:00,  2.08it/s]\n100%|██████████| 20/20 [00:02<00:00,  7.06it/s]\n[SAVING] to models\\model-[15062020-233213].pt\n+-------+------------+-----------------+----------+\n| Epoch | Train loss | Validation loss | accuracy |\n+-------+------------+-----------------+----------+\n|   1   |   1.202    |      0.477      |  0.864   |\n|   2   |   0.329    |      0.243      |  0.929   |\n|   3   |   0.183    |      0.175      |   0.95   |\n+-------+------------+-----------------+----------+\nEpoch completed in: 1.0041911482810975 mins\n100%|██████████| 118/118 [00:58<00:00,  2.02it/s]\n100%|██████████| 20/20 [00:03<00:00,  6.64it/s]\n[SAVING] to models\\model-[15062020-233315].pt\n+-------+------------+-----------------+----------+\n| Epoch | Train loss | Validation loss | accuracy |\n+-------+------------+-----------------+----------+\n|   1   |   1.202    |      0.477      |  0.864   |\n|   2   |   0.329    |      0.243      |  0.929   |\n|   3   |   0.183    |      0.175      |   0.95   |\n|   4   |   0.125    |      0.147      |  0.957   |\n+-------+------------+-----------------+----------+\nEpoch completed in: 1.033570909500122 mins\n100%|██████████| 118/118 [00:58<00:00,  2.01it/s]\n100%|██████████| 20/20 [00:03<00:00,  6.65it/s]\n[SAVING] to models\\model-[15062020-233418].pt\n+-------+------------+-----------------+----------+\n| Epoch | Train loss | Validation loss | accuracy |\n+-------+------------+-----------------+----------+\n|   1   |   1.202    |      0.477      |  0.864   |\n|   2   |   0.329    |      0.243      |  0.929   |\n|   3   |   0.183    |      0.175      |   0.95   |\n|   4   |   0.125    |      0.147      |  0.957   |\n|   5   |   0.091    |      0.131      |  0.962   |\n+-------+------------+-----------------+----------+\nEpoch completed in: 1.0380649447441102 mins\nTraining completed in 0.08623391350110372 hrs\n"
    }
   ],
   "source": [
    "Trainer.fit(\n",
    "    train_loader=train_loader,\n",
    "    val_loader=test_loader,\n",
    "    device='cuda',\n",
    "    criterion=loss,\n",
    "    optimizer=optimizer,\n",
    "    model=model.to('cuda'),\n",
    "    lr_scheduler=None,\n",
    "    metric_name='accuracy',\n",
    "    epochs=5\n",
    ")"
   ]
  },
  {
   "cell_type": "markdown",
   "metadata": {},
   "source": [
    "As you must have seen most of it just regular PyTorch stuff but with lots of convinience. If you know PyTorch it's just a breeze for you to understand :) "
   ]
  },
  {
   "cell_type": "markdown",
   "metadata": {},
   "source": [
    "Also `MyVision` creates a models folder in the directory where you run the script and saves the best models to it epoch-wise "
   ]
  },
  {
   "cell_type": "code",
   "execution_count": 8,
   "metadata": {},
   "outputs": [
    {
     "output_type": "stream",
     "name": "stderr",
     "text": "Clipping input data to the valid range for imshow with RGB data ([0..1] for floats or [0..255] for integers).\n"
    },
    {
     "output_type": "display_data",
     "data": {
      "text/plain": "<Figure size 432x288 with 1 Axes>",
      "image/svg+xml": "<?xml version=\"1.0\" encoding=\"utf-8\" standalone=\"no\"?>\r\n<!DOCTYPE svg PUBLIC \"-//W3C//DTD SVG 1.1//EN\"\r\n  \"http://www.w3.org/Graphics/SVG/1.1/DTD/svg11.dtd\">\r\n<!-- Created with matplotlib (https://matplotlib.org/) -->\r\n<svg height=\"84.884211pt\" version=\"1.1\" viewBox=\"0 0 349.2 84.884211\" width=\"349.2pt\" xmlns=\"http://www.w3.org/2000/svg\" xmlns:xlink=\"http://www.w3.org/1999/xlink\">\r\n <defs>\r\n  <style type=\"text/css\">\r\n*{stroke-linecap:butt;stroke-linejoin:round;}\r\n  </style>\r\n </defs>\r\n <g id=\"figure_1\">\r\n  <g id=\"patch_1\">\r\n   <path d=\"M 0 84.884211 \r\nL 349.2 84.884211 \r\nL 349.2 0 \r\nL 0 0 \r\nz\r\n\" style=\"fill:none;\"/>\r\n  </g>\r\n  <g id=\"axes_1\">\r\n   <g clip-path=\"url(#p0f4b741a17)\">\r\n    <image height=\"71\" id=\"image70147c1930\" transform=\"scale(1 -1)translate(0 -71)\" width=\"335\" x=\"7.2\" xlink:href=\"data:image/png;base64,\r\niVBORw0KGgoAAAANSUhEUgAAAU8AAABHCAYAAACH6cUrAAAABHNCSVQICAgIfAhkiAAAHyZJREFUeJztndlvG9fZxp+ZIYfkcLhv2qjVkm1ZcSzHiWOntoOmSNICDYp0QYGgN71tgf4J6T/Qy7YoelP0pgUaoC2QLkmbNHHSOJs3OY120VooUSTFfRmSw5nvQt85ISVqsURx8/wAIwhFSYdHM8+c857nfV/m9ddfV6GhoaGh8UiwzR6AhoaGRjuiiaeGhobGEdDVelFVH7+dPMMwu17T5mEbbR620eZhG20etqkST1VVkUwmkU6nGzaoVoDjOLhcLhgMBvpaKpVCMpls4qgaD8uycDqdMJlM9LVMJoNEIvFY3TAMw8But0MURfpaPp9HLBaDoihNHFnjsdlssFqt9P8LhQK2trZQLpebOKrGY7FYYLPZqkR018ozmUxic3OzoQNrNjzPw2KxVIlnJpPBxsZGE0fVeHQ6HQRBqBLPXC6HUCj0WIkGy7IwGAxV4ilJEkKh0GMnGhzHVYlnsVhEOBxGsVhs4qgaj6qqsNlsVa/V3LZraFTyOK062xGGYTA6OorBwcFdX8tms3jw4AFSqVTjB9bhaOKpodHmsCyLq1ev4pVXXtkVmwsGg9jY2NDE8wTQxFNDowPQ6XQwGAy7xNNsNqO7uxuFQgGxWAz5fL5JIzw6oijCYrGA53mIokg/Y7lcxtbWFiRJgiRJDQ8laOKpodHBmM1mXL9+HWfOnMF//vMfLC0tNXtIj8zAwADOnz+P7u5ujI+PQ6fblq1sNot//etfWF1dxcrKCiKRSEPHpYmnRlNhGAYcx4HjOJjNZnpj7IeiKMjn85BlGbIsP3aHOI8Cx3GwWCwoFArQ6/XNHs6RMJvN8Hq98Hg88Hq99BpJp9OwWq2Hvm7qjSaeGk2F53l4PB44HA68+OKL6OrqOvB7stksbt26hc3NTaysrCAWizVgpO0JwzAwGo0QBAEcxzV7OEeiq6sLTz31FAwGA1j2q7welmVhtVrhcrmwurra8HHVVTxZlt3z6aYoCv3Xqae3ZBXFMEzVH/kgyJyUy+WOnZudMAwDhmGoTczlcuHUqVMYGBg48HtTqRQePnwIWZYRiUTAcVxHX1fHgVyTOp3uka7JVsJkMsHpdO4aP8Mw0Ol00Ol0NU3sJ01dxdPv9+Pll1+G2Wyuel1VVczOziIQCCAej2Nzc7MjL3SPx4PTp0/DarVicHCwyje6F7lcDsvLy0ilUpienn5sVlEWiwU+nw8+nw/PPfccHA4HXC7Xob7XaDTi0qVLGBsbg9lsxuLiIiKRCMLh8AmPWqOVkGUZ6+vrWFpaakpiT13F0+Vy4fr163A4HFWvK4oCvV6PfD4PRVEQDoc7UjxFUcTo6Ci8Xi8uXrxYZbLei2Qyidu3byMSiTxWW1CTyQSv14v+/n5MTk5WGbEPgud5DA8Po1QqIRQKIZfLQZIkTTwfMxRFQTweRyQSaYqLoC7i2dXVhcHBQZw6darmtp1hGPT394NlWczMzCCRSECSJKTT6Y7KXBFFEcPDw3A4HIcOzhsMBgwMDMDlckGv1++bEppMJvHxxx+3tWfPbDbDbDZjZGQEly9fhsvlAs/zR/pZLMtiaGgIZrMZxWIRS0tLHflQ1qiNTqdDX18fFEXBzMwMMplMY39/PX5IT08Pbty4se+NMDQ0hMHBQej1eiwtLSGZTCKbzXaUeFqtVrqVPCwGgwHDw8MAgCeeeGLf9z58+BAzMzNtLZ4WiwVerxdjY2O4du3akYUT2BbPsbExjI6ONuXAQKO56HQ6DA4OQhAEhEIhBIPBxv7+evwQRVFQLBYhy3LNr5NgLsMwcLlcmJiYwPr6OsLh8J7f045sbW3h008/hcvlwtjYWFWO+F5UBroPCnqLoojJyUn09fXt+Z54PI6FhQWUSqXDD7xBMAwDn8+Hc+fOoa+vjx6uAduG51QqRQtPZDIZesBI4DgOPM/T1XplWKQZBwYazYccPLbtgVGxWEQmk4EoigeuJIeHh+H3+/HgwQNMTU21ZcbDXszPz+PXv/41RkZG8LOf/exQ4vkouFwu/OhHP9p3ju/cuYNf/epXLSmeAHDu3Dm8+uqr0Ol0VdaZYrGIQCCAra0t3Lp1C0tLSyiVSlWfg+d5uFwueDwevPbaa4eKKWtonBR1EU9JkhCNRsHzPNLpNMrlMoxGY01fGbEWmEwmmEwmGI1GFIvFjti+E9N2IpHA8vIyJEmCxWKBXq+HyWQ61hYV2F55CYKw73ucTicGBwdrxn8kSUKhUIAkSchms8cay6PAsizcbjcsFgvcbjdMJhO1ZhUKBUSjUWSzWaytrSGRSCAejyOdTqNUKlXtTHiep2mInbRjOUlkWUYsFkM0GoUkSc0eTkdRF/EMBoOIxWIYGBiAyWSinr39Yn8mkwn9/f0QBAHBYBD5fL5jgv2hUAi//e1vYbFY8Oyzz6KrqwtjY2Po6ek58d89MjKCn/70p7seRoqiYHFxEWtra1hYWMDdu3cb9sDieR6vvPIKLl26RMt6ybKMfD6PQCCAP/zhD4jH4ygUCiiXy8jlcigWi7uuh1KphFgsBp1O17Ir61Yjm83i5s2bWF5efuxKTZ40dRHPQqGAQqEAq9WKWCwGjuMOXBno9Xo4nU6oqopUKgWWZSFJUkesKIrFIjY2NpBIJDA4OAiO42hxBpKKuFeMhqzIyuUyZFneVyRI9kiln9RkMtWMiSqKAkmSUCqVEA6HGxojIitPv98PRVFQKpWQy+WQTCYRjUaxtraGeDx+4M+pNEW3q+G70ZTLZSSTScRiMe2BU2fq6vNMJpO4e/cuuru7MTY2tqt4aCUejwff/OY3kc1msbq6imQyiQ8//BCBQKCeQ2oqxWIR9+7dw/z8PPL5PBKJBLq7u+H3+/f8HlVVsbq6is3NTXq6vteKnOM4vPTSS3jmmWcOFEOGYdDb2wuHw4F4PN60A5ZIJIJIJIJAIIDPPvsMyWTy0BYTu92Op59+Gj6fD3a7/YRH2hkwDAODwQCTyaRt2+tMXcWzUChgc3MTHMfRLRjLsjVvVEEQMDw8jEKhAFEUEY/HMTU1Vc/hNJ1yuYxwOAyO49DX1wer1QpBENDd3Q2WZfecm0wmg0gkgsXFRdy5c2fPtE2dTofz588fujAGiTM/ipWqHqiqCkVRUC6XkclkEI1Gsby8jKmpqQNXQ5WnqWazGQMDA/B6vTAajXROtNTMvWEYBnq9HjzPa6v1OlNX8SyVStSD+O9//xterxdPPfUUent79x6ATgen0wm9Xg+HwwGr1UrDAJ2CoijU2zo9PY2PPvoIQ0NDuHHjxq4UToZh0N3dTQs5MAyDra0tzM/P7wppKIqCjz/++JEzawKBQEMP6GRZxq1bt2hsPJFIIBwOHyj6oihCFEX09fXh/PnzsNlsGBoaoq1CFEXB2toaYrEYQqFQgz5Ne2EymXD+/Hl4vV588sknyOVyzR5Sx1BX8SQri0KhgE8++QQOhwP9/f37iiepjKLX62GxWKjdqZPEU1VVBIPBKhPvlStXcOXKlZri6XK5aJ53uVxGIBBAIBCoKZ5TU1Mtv2KXZRn379/HzMwMCoUCisUiyuXygQIuCALcbjfOnj2Lb3/727vcCuVyGaFQCA8fPsTW1tZJfoS2xWAwYHR0FG63GzMzM1oyQR05kZJ0iqJQK8wXX3yBbDaLwcFB9PT07Nqmkv/X6XQ4d+4cRFHE/fv38eWXX57E0FqGXC6H1dVV2O12eDyeqnROhmGgqiqsVisGBgaQzWbbfstF7Gik/uZewslxHIaGhuDxeGj9Rr/fv8tQn06nkc/n8fDhQ8zOziIajWpb9w6AZVkIggCe59HT0wOHw1GzNxOwfa14PB4YjUZcuHABDocD6+vrWF1dpYeuJ8mJiCc54ctkMrh58ybu37+Pb33rW/tadfR6Pa5evYrLly+jVCp1vHiSKkper5euvCshK1Cn04lsNtu2tRiB7ZW3JEn0obAfHMfh4sWLuHDhAi2AS+LDhHK5jEgkgkQigS+++AL37t3rCJ+wxlftry0WC65du4YzZ87A6XTW7puu01EHh9vtRjqdxgcffIBIJEIf1if5QD2xYsjkkCCfz4NhGKytrWF6ehoOhwM+n2/P2nwsy6K3txdPPvkkYrEYgsFgR94Y+XwewWAQxWIRvb29KBQKtE8LgcyR3W7HxMQEYrEYNd+3I/tdyDzPo7+/H3a7Hb29vbDZbBAEoapWoyRJiEQiyOVyCAQCSCQSSCaTWiX5NsZut8Pv99NrneM4uN1uCIIAr9e7656opPIwkSRe9Pb2YmJigmankXTfYrGIbDZbV7vWiVaSVxSFXuDvvvsu7ty5g2effRavvvrqnttQhmFw7do1XLp0Ce+//z5+//vfd2SP6Egkgps3b8LtdoPjOHi9XkxMTMDtdu9678jICH7yk59gZWUFv/zlLxteAKER2Gw2vPbaaxgdHYXRaIRer991jcRiMbz11lvUiZBOp9v2QaKxzdmzZ/HjH/8YRqORvsZxHFiWpRllhwlZiaIIs9mMa9eu4emnnwaw/bCORqN45513EIlEMDs7i0QiUbexn3gbDrIqyGQykGWZVlMyGo017RMMw0AQBAiCAJvNBpPJBIZhamactDMkkyadTiMajQLYzkwqlUq0LwuB53k4nU5kMhnYbDakUinaw6fd4TgOBoMBoijC4XDA6XTuek8+n0cqlcLm5iYikQi2trboddTqkJCDIAjQ6/U0SeJRILu4UqmEbDZLY8adcD+Qa/s4dSBItXxgeytfmcKsqiq8Xi8YhsHGxgaKxeK+RYwehYb1MCKtQdfW1nD//n1aeWi/fG+73Y4zZ84gHo8jEAh0ZIZEOp3GrVu3oNfr8cEHH8BoNOI73/kOnnvuuV3vFUURzz77LAYHB3H79u2OSLcTRRHj4+Pw+Xx7FvqYmZnBX//6V6RSKYRCIRSLxbZwY7AsC5PJBEEQ8Nxzz6G3txdut3vf5JFaFAoF5PN5rK6u4r333kM6nUYikeiIh+dJY7PZcOPGDaTTaZhMJgSDQSwuLtbF2tYw8SSnX8QkzTAMcrkcFEXZ08BrNBrhdruhqip4nu/IHkiyLFfZbHQ6HcLhMHK5HHQ6HfR6fZUjgTxFRVFELBY7lOWnldHr9fRgrLIDIklTJYUtFhYWkMvlUCgUWv7vz7IsrRolCAIsFgt6enowNDQEn8936HYjhHw+j2w2C4ZhYLfb6U6MLCZIj6JaVM5jK14nqqqiVCrtqrK1F/uVnyPXReX1wXEcXC4XTCYT3G43PWuoBw3vnhkKhfDf//4XgiDgzp07cLvdePHFF+H1ene9t7e3Fy+88AI2NjbAsiwSiQRWVlY62uirKAref/99zM/P49KlS3j++efpxWIymXD69Gl6wNTf34+FhYW29u4JgoBTp07B6/Xu2rrdv38f9+7dw+rqKrLZLGRZbnnhBACv10tbi/j9fgiCgN7eXlgsliNtT/V6Pe1S8N3vfpeuvIkYMgxDC2rvpFAoYGFhAaFQqCWLaEciEXz88cew2+3o6+vbdyfK8zxEUdw3tZhUDSMPDUKxWKRFiyrjq8eh4eKZSqWob5F4ua5evVpTPO12O+x2O0RRRCAQAM/ztGdNp6IoCubm5jA3NweHw4Hr16/Ti0Wv19O87kgkAkEQEIlE2lo8Sethj8ez68YJBoP49NNP6SlpK66camG1WnHmzBm43W6cPn26ZhnBwz4EKouhGI1GeDyeRxqLLMsIh8NYX19vydq5mUwGS0tLcLlcBz5cBEGA2Wymc1dLRGVZhiRJKJfLVWE+WZah1+upg6MeNFw8K1vskuDtQTeF1WrFhQsXsLm5SdMc22EFclzi8Tjm5+dhtVrR1dVFtzUcx9GVzPT0dJNHeTyKxSLtpmq1WqsyrsbGxgCAFhJJpVJYWVlpWfcF2T5brVb09fXBbrfv2csqn88jk8mA53lYrVYoioJUKlUVxxRF8cD6rQdB7rPKlWorkUqlMDc3B5PJhI2NjX2FTRRFeDweOBwOnD9/vubckHqvq6ur+PTTT+m1oigK0uk0CoVC3RoFNkU8yemhLMuHOkW3WCyYnJxEKBTCO++8g42NjY6LfdYiFothbm4O3d3d8Hg8VeLZ19cHWZbbvroQKSajququnu2nT5/G2NgYVlZWcPv2bayvr9MDo1aEOAeIeO51AKaqKvL5PCKRCM3fJ7FdYr0iJ8jEbXJUKhcpreiHTSaTSCaTh/qMFosFXV1dGBgYwKlTp2qKJ/kbRKNRvP322zUdGfXSjYaL505KpRKCwSD0ej3cbnfNC64y5vfkk0/C6XRibm6u41vNJhIJLCwsQFXVquZwZD5YlsWpU6dw/fp1rK+vY3Fxse0eKJIkYWVlBZIk4fz58/T1yr5XZrMZfr8foihSixfpdxQKhfbtONpIXC4XBgcH0d/fX2XuJ5CC1Ovr68hkMkgkEjAajVhaWkK5XMbW1lbVypOErNxuN3p6esDzPEwm0yOl6iqKgkwmg2Qy2dJulcNct+VymR6U7fV+lmWpT5Qs1E6KpotnPp/HvXv3EAqFcOXKlX370litVnzve99DJpPBb37zm44Xz2AwiFAoBEmS8PWvf31XPIhlWdy4cQNXr17FP/7xDwQCgZZcXexHKpXC559/Dp/Phxs3btR8j8vlgt1uh6IouHbtGiRJwtzcHLa2tvDuu++2jHgODw/jpZdeolXCdlIul/H+++/jn//8Z9WNTcRw57aanCxfvnwZL7/8Mmw2G3p6eh5JPEnx6/X19bZ7sO6kXC7TVjL7iScx1580TRfPcrmMWCwGAFheXoYsy3A6ndSSUQmpnE7sTTqdbleHxU6C2LuSySQWFxfhdDrR1dVF44IMw4DnefqvHTtIEquKJEnY2trC5uYmrFZr1YNiZ247x3FwOBy0wDOpSl/P7JGjQLaMe924pDCx2WymMc/DQFaOOp2uSjRIValsNguPx1N1z0iShHg8js3NTUiS1BH3COnSSz4bcSGQB1Wjr3/u+eef/3nlC43O3CiXy4jH41hfX8fc3Bzu3r0Ls9mM4eHhPSdDlmU8ePAA4XAYqqoe2yzMcRycTmfVYUU6nW4Za0cqlcKDBw+wtLSEs2fPwmq17nrP7Ows7ty5c6ybhGVZOByOKuHKZrMNWdkxDANFURAKhfbMNKocJ2km193djTNnzqBYLGJ5ebluY7Hb7VVZXuSG3W/11t/fj9HRURr33LlCVFWV1jAAQK/fgyBVhgCgr6+PikUul8Mf//hH/OUvf4HNZsPIyAi9Z4LBIP7+979jamoKKysrR04qsFqtdLzA9gFfPB5vyg6HiKeqqjAYDEilUnA4HDVjnysrK/jkk0/qFqoQRRE2m61Kk5q+8lQUBblcjhp/9Xo90uk0FEXZ1ZO5MtYniiJcLldVkL1TkSQJGxsbHd01snIHEo1G4XA46Nd4nofZbK76+5MdCPHtkcydYrHYtGaCpVIJmUxmV41WAsMwsFgs8Pl8iMVisNlsVQb2vZwn5OcS/2IlkiTRlWllHyiyiu+k3kXEqUN2KRzHNfWzNV08CeRUsFwuI5vNIp1O0wD5TvR6Pb7xjW/g0qVLePvtt/HOO+80YcQa9YT0bV9bW0MwGKxa9V24cAGvvPJKzcLRFosFgiDga1/7GgYGBjAzM4O33367KSfyS0tLePPNNzE+Pg6/379r+84wDPx+P9xuNwYHBzE5OYl0Ok2bBd6+fRvpdHrXzyWtvR0OR5W4GgwGvPTSS7h48SIWFhbwi1/8gn4tl8shHA7Tk/ZOIpPJ4Pbt23C73bhw4QK6u7ubMo6WEU/gq140JJeXlJraCcdx8Pv96O3txd27dw9VJ7JZkCK+nRybrQfE5whgV1V4sqIkc1n5j+d5qKqKnp4e2Gw2ZDKZphWOTiaTKBQKcDqddDW5c+dEuiWQsEM8HqeLBJPJtKeRfWcPe+Ary5rT6cSDBw9w9+7dE/+M9WDn/bozPHfQvVwqlRCJRPbtOEGsXizLnth911LiSZifn8dbb72F0dFRXL58uSEnZyeBIAh44YUX0N3djQ8//LDjCzyfFPPz8/jd734Hp9OJc+fOwWKx0D5PBHJgZjQam3ZwRrJbSBqx3W6H1+vdlTlFmrKZzWbodDrwPI+BgQF0dXXVDEEZjUaYzWbY7faqn1UqlTA1NYXV1VWsrKyc+Oc7LmQxxPM8XRGTAzRiblcUhR5yHQev14vr168jGo1iamrqRLISW06VVFXF2toa0uk0dDodnn76aaiq2pYnyUajEVeuXMH4+DhWVlY08TwipP9TT08PjEYjLa5BxJOIERGiZlFZ/CYUClHnSGVxFwJJuTSZTDTR4cyZM4/0+2RZxuLiIr744ou2se0ZjUZq/C+XyzAYDHA4HDRvXZZlJBKJY4un3W7HhQsXsLa2hrm5ucdDPIHtrBOSA18qlajxtZaAkicXqRrdCtjtdly8eBFerxdut5taaiYmJhCNRmlGzeNMpZmZtMYlLYWJ3ScejyMWi1HzucPhwMjIyK7q4qqqIpVKIZlMYmtrq+lzm0gkcO/ePYiiiJWVFVgsFkxMTDxyXvpBqKqKTCaDeDze0oemOp0OPp+Pumg8Hk/VylMURWrzUhQFQ0NDNcMXuVwOsViM/n13OgEqIT/vJC18LSmeuVwO+Xye5qLu1+PcYDDAZrMhl8u1TMFkt9uNH/zgB9TQrKoqhoeHwbIspqamOqIO53EhZmbi1RNFEZcuXaKGeJPJhOnpaczOzmJiYgIvv/xyVenCndfC1tYWlpaWaOpuM4lEInjvvfeg0+nodtvpdJ6IeCaTyUNbnpoFz/MYGRmBz+fD1atXMTIysus9lX/PvT7L5uYmvvzySxr7NRqNe9ZGJamtRqPxxGLgLSmewFcXxvz8PO2gVyt25PP5MDExgfX1daRSqZbIsCFbD0EQYLVaodPpYLPZ0NXVhUAg0NIHXI2iMg98ZGQEVqsVPT09sFqtEEURBoMBPT09KJfL6Orqotvyvcjn84jFYshkMk2fW5I9JMsyCoUCstksZmdnIcsydQfU8g0elmKxiHA4jHg8jmw22/TPexCkzUxfXx8sFsuRzzAEQYDH46H3OEkOqUUmk6Gl+E7KbdCy4glsWz/eeOMNnDp1Cj/84Q9rTtTk5CTOnTuHmzdvYm5uriXEM5fLYXp6GrFYDE888QScTif8fj96enraIrDfCHieh8PhwNDQEL7//e/TCkQMw9Bdhs/nw+TkJI0P7gcpokJOYVsB0gCxUCjgjTfeAM/zGB8fx+DgIE6fPo3JyckjiSfpSruxsVGXiugnjdFoxJNPPomzZ88eKyZttVoxPj5eVZJur+tidXUVf/7zn0+0z1VLi2ehUEA8Hqem+Z2Q01UShG4VZFlGNBoFy7IoFotVBxqk6OtRbnCfz7dnibN2g4gk2bbXil0dJJiqqiKbzaJQKCCRSNBe7q20EiPGbmKhikajdEfi8XiOJJ6JRIL2cmoHDydJSz2uE+Kg/k8kBkxCGaTX10nR0uJJzMGJRKIlVpSHJZVK4aOPPoLL5cL4+HiVifeZZ56pGfM5DDzPP3ILh06mXC5jamoKS0tLmJ2dxdLSUsu2mwC2V6LLy8sIhUJ48OAB3nrrrSOJCQkLtdIh6UHs1z6jnnz22Wf429/+RqtunSQtLZ4kZY1kHpXL5T0PjloJWZZpqlw+n0epVKInyw6Hoyr18DiQuqiKotAC0+0EGT9JUdzLUVH5fvLfUqmEYrGIaDSK9fV1xGKxtuimmc/nkc/nm17EpJGoqgpJkhrSASIcDmNxcbEhvb1aWjwJhUIBGxsbKJVK8Hg8e+YOtxrEh8cwDPr7+0/ktDUYDCIcDiMYDLaVeBaLRSQSCWxubmJ2dhYulwt+v78qLXMnJIU3m83izp07iEQi+N///odgMNgWwvm4kkql8Kc//almQZt6EwwGG9brqi3Ek/R7J4cMJOjc6itQUuBWEAS4XC643W76teNWByertkQigWAw2DI1LQ+LLMvUjhYOh6EoCnw+376xa9KXJpfLYXFxkWbW7Ezn1GgtCoUCpqammj2MutMW4hmPx/HBBx/A4/HAZDIdyrrSCpRKJczOzlJfZz6fh8vlOvYKtFAo4MMPP0QwGEQkEqEHCO208iQhmVgshs8//xyCIGB6enrfXQWx/0iShIWFBaRSqY5uBqjR2rS2+vw/iUQCH330EW3parfbaW/sVqZUKmF+fp727yarRZJ1dFQkScLNmzdx+/btthLMSkisNh6P0/jwYeekXT+zRmfR2uqzA0mSaIbOzordX375Zcuesqqqis3NTXAch2QyiVAodCzxzOVyLZGGWG867fNodDZtJZ7pdBpvvvlmTdvDzj7NrYSiKJifn6eHR8dNFyOnzRoaGs2jrcSTnLa2I8RqpaGh0Rk0p2qshoaGRpujiaeGhobGEdDEU0NDQ+MIaOKpoaGhcQQ08dTQ0NA4App4ahxIq6fBamg0g11WJavV+tjdLLUah4miiO7u7sfKuM2yLIxGY9VrgiDA5/M9VvNQq+W1wWCAz+dr2USMk4BhGIiiWPUa6TW1sw1yp1Or3izz+uuvV90Vj9NNUkmtB8bjOBfaPGyjzcM22jx8xa4OqAe94XFGm4tttHnYRpuHbbR52EaLeWpoaGgcAU08NTQ0NI7A/wFpITQziGASBwAAAABJRU5ErkJggg==\" y=\"-6.684211\"/>\r\n   </g>\r\n  </g>\r\n </g>\r\n <defs>\r\n  <clipPath id=\"p0f4b741a17\">\r\n   <rect height=\"70.484211\" width=\"334.8\" x=\"7.2\" y=\"7.2\"/>\r\n  </clipPath>\r\n </defs>\r\n</svg>\r\n",
      "image/png": "[encoded data removed]"
     },
     "metadata": {
      "needs_background": "light"
     }
    },
    {
     "output_type": "stream",
     "name": "stdout",
     "text": "1     2     3     9     7\n"
    }
   ],
   "source": [
    "show_batch(\n",
    "    datasets.MNIST('data', train=True, download=True, transform=transforms.Compose([\n",
    "                           transforms.ToTensor(),\n",
    "                           transforms.Normalize((0.1307,), (0.3081,))\n",
    "                       ])),\n",
    "    classes=[0,1,2,3,4,5,6,7,8,9]\n",
    ")"
   ]
  }
 ],
 "metadata": {
  "kernelspec": {
   "display_name": "Python 3",
   "language": "python",
   "name": "python3"
  },
  "language_info": {
   "codemirror_mode": {
    "name": "ipython",
    "version": 3
   },
   "file_extension": ".py",
   "mimetype": "text/x-python",
   "name": "python",
   "nbconvert_exporter": "python",
   "pygments_lexer": "ipython3",
   "version": "3.8.2-final"
  }
 },
 "nbformat": 4,
 "nbformat_minor": 4
}