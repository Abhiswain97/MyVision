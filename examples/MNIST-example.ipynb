{
 "cells": [
  {
   "cell_type": "markdown",
   "metadata": {},
   "source": [
    "# Introduction to MyVision\n",
    "This is a library I made to combine everything I <3 about PyTorch.\n",
    "My goal is \"Do more with less code\". Well `MyVision` is a wrapper over PyTorch.\n",
    "That means u must know PyTorch before working with it and if u know PyTorch you can yourself make any customizations. Just have at look at the source code on github.\n",
    "\n",
    "With this aside let's start our example. It's the MNIST example as u might have guessed already :P"
   ]
  },
  {
   "cell_type": "code",
   "execution_count": 10,
   "metadata": {},
   "outputs": [],
   "source": [
    "# torch imports\n",
    "import torch\n",
    "import torchvision\n",
    "from torchvision import datasets\n",
    "from torchvision import transforms\n",
    "from torch.utils.data import DataLoader"
   ]
  },
  {
   "cell_type": "code",
   "execution_count": 11,
   "metadata": {},
   "outputs": [],
   "source": [
    "# standard \"Every ML/DL problem\" imports\n",
    "import numpy as np\n",
    "import pandas as pd\n",
    "import matplotlib.pyplot as plt"
   ]
  },
  {
   "cell_type": "markdown",
   "metadata": {},
   "source": [
    "So, let me give u a brief overview of what `MyVision` offers:\n",
    "There are two important things at the heart of it.\n",
    "1. Dataset\n",
    "2. Trainer\n",
    "<br>\n",
    "The former one we will go through in another example.\n",
    "Here, we go through `Trainer`\n",
    "\n",
    "So what is `Trainer`?\n",
    "Simply, Trainer provides trainig and validation methods, normally in PyTorch you have to write your\n",
    "custom loop, which let me tell you, gives you ultimate customization. But I wanted to do something like what keras `.fit()` offers. So I decided to build it up.\n",
    "\n",
    "Trainer offers you this keras like `.fit()` magic. With proper parameters you can simply `.fit()` and *boom!* training begins.\n",
    "\n",
    "So, let's import the specifics. \n",
    "Our `Trainer` is present in `MyVision.engine.Engine`"
   ]
  },
  {
   "cell_type": "code",
   "execution_count": 12,
   "metadata": {},
   "outputs": [],
   "source": [
    "import MyVision\n",
    "from MyVision.engine.Engine import Trainer\n",
    "from MyVision.utils.ModelUtils import freeze_layers\n",
    "from MyVision.utils.PlotUtils import show_batch"
   ]
  },
  {
   "cell_type": "markdown",
   "metadata": {},
   "source": [
    "Below we just make the two DataLoaders because as you know in PyTorch `DataLoader` is where the heavylifting takes place. Our trainer expects these DataLoaders"
   ]
  },
  {
   "cell_type": "code",
   "execution_count": 13,
   "metadata": {},
   "outputs": [],
   "source": [
    "train_loader = torch.utils.data.DataLoader(\n",
    "    datasets.MNIST('data', train=True, download=True, transform=transforms.Compose([\n",
    "                           transforms.ToTensor(),\n",
    "                           transforms.Normalize((0.1307,), (0.3081,))\n",
    "                       ])),\n",
    "    batch_size=512, shuffle=True\n",
    ")\n",
    "test_loader = torch.utils.data.DataLoader(\n",
    "    datasets.MNIST('data', train=False, transform=transforms.Compose([\n",
    "                           transforms.ToTensor(),\n",
    "                           transforms.Normalize((0.1307,), (0.3081,))\n",
    "                       ])),\n",
    "    batch_size=512, shuffle=True\n",
    ")"
   ]
  },
  {
   "cell_type": "markdown",
   "metadata": {},
   "source": [
    "Let's have a look at our batch using our `show_batch` function!"
   ]
  },
  {
   "cell_type": "code",
   "execution_count": 14,
   "metadata": {},
   "outputs": [
    {
     "name": "stderr",
     "output_type": "stream",
     "text": [
      "Clipping input data to the valid range for imshow with RGB data ([0..1] for floats or [0..255] for integers).\n"
     ]
    },
    {
     "data": {
      "image/png": "[encoded data removed]",
      "text/plain": [
       "<Figure size 432x288 with 1 Axes>"
      ]
     },
     "metadata": {
      "needs_background": "light"
     },
     "output_type": "display_data"
    },
    {
     "name": "stdout",
     "output_type": "stream",
     "text": [
      "    9     3     6     6     3\n"
     ]
    }
   ],
   "source": [
    "show_batch(\n",
    "    datasets.MNIST('data', train=True, download=True, transform=transforms.Compose([\n",
    "                           transforms.ToTensor(),\n",
    "                           transforms.Normalize((0.1307,), (0.3081,))\n",
    "                       ])),\n",
    "    classes=[0,1,2,3,4,5,6,7,8,9]\n",
    ")"
   ]
  },
  {
   "cell_type": "markdown",
   "metadata": {},
   "source": [
    "Next we do usual stuff i.e. define our `model`, `optimizer` & `loss` "
   ]
  },
  {
   "cell_type": "code",
   "execution_count": 15,
   "metadata": {},
   "outputs": [],
   "source": [
    "model = torchvision.models.resnet18(pretrained=True)\n",
    "model.conv1 = torch.nn.Conv2d(1, 64, kernel_size=(7, 7), stride=(2, 2), padding=(3, 3), bias=False)\n",
    "model.fc = torch.nn.Linear(in_features=model.fc.in_features, out_features=10)\n",
    "\n",
    "loss = torch.nn.CrossEntropyLoss()\n",
    "optimizer = torch.optim.Adadelta(model.parameters(), lr=0.01)"
   ]
  },
  {
   "cell_type": "markdown",
   "metadata": {},
   "source": [
    "Below is the part to what we have been building upto aka `Trainer`.\n",
    "Let's have a look at what functions does the `Trainer` has.\n",
    "Run the cell below to see:"
   ]
  },
  {
   "cell_type": "code",
   "execution_count": 16,
   "metadata": {},
   "outputs": [
    {
     "data": {
      "text/plain": [
       "\u001b[1;31mSignature:\u001b[0m\n",
       "\u001b[0mTrainer\u001b[0m\u001b[1;33m.\u001b[0m\u001b[0mfit\u001b[0m\u001b[1;33m(\u001b[0m\u001b[1;33m\n",
       "\u001b[0m    \u001b[0mtrain_loader\u001b[0m\u001b[1;33m,\u001b[0m\u001b[1;33m\n",
       "\u001b[0m    \u001b[0mval_loader\u001b[0m\u001b[1;33m,\u001b[0m\u001b[1;33m\n",
       "\u001b[0m    \u001b[0mdevice\u001b[0m\u001b[1;33m,\u001b[0m\u001b[1;33m\n",
       "\u001b[0m    \u001b[0mcriterion\u001b[0m\u001b[1;33m,\u001b[0m\u001b[1;33m\n",
       "\u001b[0m    \u001b[0moptimizer\u001b[0m\u001b[1;33m,\u001b[0m\u001b[1;33m\n",
       "\u001b[0m    \u001b[0mmodel\u001b[0m\u001b[1;33m,\u001b[0m\u001b[1;33m\n",
       "\u001b[0m    \u001b[0mepochs\u001b[0m\u001b[1;33m,\u001b[0m\u001b[1;33m\n",
       "\u001b[0m    \u001b[0mmetric_name\u001b[0m\u001b[1;33m=\u001b[0m\u001b[1;34m'accuracy'\u001b[0m\u001b[1;33m,\u001b[0m\u001b[1;33m\n",
       "\u001b[0m    \u001b[0mlr_scheduler\u001b[0m\u001b[1;33m=\u001b[0m\u001b[1;32mNone\u001b[0m\u001b[1;33m,\u001b[0m\u001b[1;33m\n",
       "\u001b[0m    \u001b[0mcheckpoint_path\u001b[0m\u001b[1;33m=\u001b[0m\u001b[1;34m'models'\u001b[0m\u001b[1;33m,\u001b[0m\u001b[1;33m\n",
       "\u001b[0m    \u001b[0maccumulation_steps\u001b[0m\u001b[1;33m=\u001b[0m\u001b[1;36m1\u001b[0m\u001b[1;33m,\u001b[0m\u001b[1;33m\n",
       "\u001b[0m    \u001b[0mcsv_logger\u001b[0m\u001b[1;33m=\u001b[0m\u001b[1;32mTrue\u001b[0m\u001b[1;33m,\u001b[0m\u001b[1;33m\n",
       "\u001b[0m\u001b[1;33m)\u001b[0m\u001b[1;33m\u001b[0m\u001b[1;33m\u001b[0m\u001b[0m\n",
       "\u001b[1;31mDocstring:\u001b[0m <no docstring>\n",
       "\u001b[1;31mFile:\u001b[0m      c:\\users\\abhishek swain\\desktop\\myvision\\myvision\\engine\\engine.py\n",
       "\u001b[1;31mType:\u001b[0m      function\n"
      ]
     },
     "metadata": {},
     "output_type": "display_data"
    }
   ],
   "source": [
    "?Trainer.fit"
   ]
  },
  {
   "cell_type": "markdown",
   "metadata": {},
   "source": [
    "You will see that out `Trainer` just takes in the usual stuff:\n",
    "1. Training, Validation & Test(if specified) DataLoaders\n",
    "2. device(either `cpu` or `cuda`)\n",
    "3. loss\n",
    "4. optimizer\n",
    "5. model\n",
    "6. learning rate scheduler(if you want)\n",
    "<br>\n",
    "Whatever you don't want just specify it as `None`."
   ]
  },
  {
   "cell_type": "markdown",
   "metadata": {},
   "source": [
    "Finally, for the magic to begin specifiy number of epochs and the scheduler metric in the `.fit()`\n",
    "Now just run the cell below and we are off !"
   ]
  },
  {
   "cell_type": "code",
   "execution_count": 17,
   "metadata": {},
   "outputs": [
    {
     "name": "stdout",
     "output_type": "stream",
     "text": [
      "100%|█████████████████████████████████████████████████████████████████████████████████████████████████████████████████████████████████████| 118/118 [00:52<00:00,  2.23it/s]\n",
      "100%|███████████████████████████████████████████████████████████████████████████████████████████████████████████████████████████████████████| 20/20 [00:02<00:00,  7.61it/s]\n",
      "[SAVING] to models\\model-[14012021-142312]-1.pt\n",
      "+-------+------------+-----------------+----------+\n",
      "| Epoch | Train loss | Validation loss | accuracy |\n",
      "+-------+------------+-----------------+----------+\n",
      "|   1   |   1.155    |      0.456      |  0.868   |\n",
      "+-------+------------+-----------------+----------+\n",
      "Epoch completed in: 0.93 mins\n",
      "100%|█████████████████████████████████████████████████████████████████████████████████████████████████████████████████████████████████████| 118/118 [00:53<00:00,  2.21it/s]\n",
      "100%|███████████████████████████████████████████████████████████████████████████████████████████████████████████████████████████████████████| 20/20 [00:02<00:00,  7.62it/s]\n",
      "[SAVING] to models\\model-[14012021-142408]-2.pt\n",
      "+-------+------------+-----------------+----------+\n",
      "| Epoch | Train loss | Validation loss | accuracy |\n",
      "+-------+------------+-----------------+----------+\n",
      "|   1   |   1.155    |      0.456      |  0.868   |\n",
      "|   2   |   0.337    |      0.244      |  0.929   |\n",
      "+-------+------------+-----------------+----------+\n",
      "Epoch completed in: 0.93 mins\n",
      "100%|█████████████████████████████████████████████████████████████████████████████████████████████████████████████████████████████████████| 118/118 [00:53<00:00,  2.21it/s]\n",
      "100%|███████████████████████████████████████████████████████████████████████████████████████████████████████████████████████████████████████| 20/20 [00:02<00:00,  7.78it/s]\n",
      "[SAVING] to models\\model-[14012021-142505]-3.pt\n",
      "+-------+------------+-----------------+----------+\n",
      "| Epoch | Train loss | Validation loss | accuracy |\n",
      "+-------+------------+-----------------+----------+\n",
      "|   1   |   1.155    |      0.456      |  0.868   |\n",
      "|   2   |   0.337    |      0.244      |  0.929   |\n",
      "|   3   |   0.199    |      0.176      |  0.948   |\n",
      "+-------+------------+-----------------+----------+\n",
      "Epoch completed in: 0.94 mins\n",
      "100%|█████████████████████████████████████████████████████████████████████████████████████████████████████████████████████████████████████| 118/118 [00:53<00:00,  2.22it/s]\n",
      "100%|███████████████████████████████████████████████████████████████████████████████████████████████████████████████████████████████████████| 20/20 [00:02<00:00,  7.78it/s]\n",
      "[SAVING] to models\\model-[14012021-142600]-4.pt\n",
      "+-------+------------+-----------------+----------+\n",
      "| Epoch | Train loss | Validation loss | accuracy |\n",
      "+-------+------------+-----------------+----------+\n",
      "|   1   |   1.155    |      0.456      |  0.868   |\n",
      "|   2   |   0.337    |      0.244      |  0.929   |\n",
      "|   3   |   0.199    |      0.176      |  0.948   |\n",
      "|   4   |   0.139    |      0.148      |  0.956   |\n",
      "+-------+------------+-----------------+----------+\n",
      "Epoch completed in: 0.93 mins\n",
      "100%|█████████████████████████████████████████████████████████████████████████████████████████████████████████████████████████████████████| 118/118 [00:53<00:00,  2.22it/s]\n",
      "100%|███████████████████████████████████████████████████████████████████████████████████████████████████████████████████████████████████████| 20/20 [00:02<00:00,  7.81it/s]\n",
      "[SAVING] to models\\model-[14012021-142656]-5.pt\n",
      "+-------+------------+-----------------+----------+\n",
      "| Epoch | Train loss | Validation loss | accuracy |\n",
      "+-------+------------+-----------------+----------+\n",
      "|   1   |   1.155    |      0.456      |  0.868   |\n",
      "|   2   |   0.337    |      0.244      |  0.929   |\n",
      "|   3   |   0.199    |      0.176      |  0.948   |\n",
      "|   4   |   0.139    |      0.148      |  0.956   |\n",
      "|   5   |   0.106    |      0.129      |  0.961   |\n",
      "+-------+------------+-----------------+----------+\n",
      "Epoch completed in: 0.93 mins\n",
      "Training completed in 4.66 mins\n"
     ]
    }
   ],
   "source": [
    "Trainer.fit(\n",
    "    train_loader=train_loader,\n",
    "    val_loader=test_loader,\n",
    "    device='cuda',\n",
    "    criterion=loss,\n",
    "    optimizer=optimizer,\n",
    "    model=model.to('cuda'),\n",
    "    lr_scheduler=None,\n",
    "    metric_name='accuracy',\n",
    "    epochs=5\n",
    ")"
   ]
  },
  {
   "cell_type": "markdown",
   "metadata": {},
   "source": [
    "As you must have seen most of it just regular PyTorch stuff but with lots of convinience. If you know PyTorch it's just a breeze for you to understand :) \n"
   ]
  },
  {
   "cell_type": "markdown",
   "metadata": {},
   "source": [
    "Also `MyVision` creates a models folder in the directory where you run the script and saves the best models to it epoch-wise "
   ]
  },
  {
   "cell_type": "code",
   "execution_count": null,
   "metadata": {},
   "outputs": [],
   "source": []
  }
 ],
 "metadata": {
  "kernelspec": {
   "display_name": "Python 3",
   "language": "python",
   "name": "python3"
  },
  "language_info": {
   "codemirror_mode": {
    "name": "ipython",
    "version": 3
   },
   "file_extension": ".py",
   "mimetype": "text/x-python",
   "name": "python",
   "nbconvert_exporter": "python",
   "pygments_lexer": "ipython3",
   "version": "3.8.5"
  }
 },
 "nbformat": 4,
 "nbformat_minor": 4
}
